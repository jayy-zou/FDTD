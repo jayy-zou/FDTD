{
 "cells": [
  {
   "cell_type": "markdown",
   "metadata": {},
   "source": [
    "# Nonlinear Finite-Difference Time-Domain (FDTD)\n",
    "### by Jay Zou for APHY 679\n",
    "\n",
    "In this notebook, we will develop a basic 1D FDTD code from scratch. Covering the basics for the FDTD update equations, sources, electric boundary conditions, absorbing boundary conditions, linear dielectric response, second order nonlinear reponse, from which we are able to see second harmonic generation."
   ]
  },
  {
   "cell_type": "markdown",
   "metadata": {},
   "source": [
    "We begin by installing some packages."
   ]
  },
  {
   "cell_type": "code",
   "execution_count": 1,
   "metadata": {},
   "outputs": [],
   "source": [
    "import numpy as np\n",
    "import matplotlib.pyplot as plt\n",
    "from ipywidgets import interact, IntSlider"
   ]
  },
  {
   "cell_type": "markdown",
   "metadata": {},
   "source": [
    "We then define our physical constants"
   ]
  },
  {
   "cell_type": "code",
   "execution_count": 2,
   "metadata": {},
   "outputs": [],
   "source": [
    "epsilon0 = 8.85418782e-12 #F⋅m−1\n",
    "mu0 = 1.25663706e-6 #N⋅A−2"
   ]
  },
  {
   "cell_type": "markdown",
   "metadata": {},
   "source": [
    "Which allows us to calculate the speed of light, which we can verify to be the speed of light."
   ]
  },
  {
   "cell_type": "code",
   "execution_count": 3,
   "metadata": {},
   "outputs": [
    {
     "data": {
      "text/plain": [
       "299792458.13099605"
      ]
     },
     "execution_count": 3,
     "metadata": {},
     "output_type": "execute_result"
    }
   ],
   "source": [
    "c0 = 1/np.sqrt(epsilon0*mu0)\n",
    "c0"
   ]
  },
  {
   "cell_type": "markdown",
   "metadata": {},
   "source": [
    "Now, we will develop the update equations for FDTD through finite difference derivatives and Maxwell's equations.\n",
    "\n",
    "## Finite-difference derivagives\n",
    "\n",
    "In order to evaluate the derivative of a function $f(x)$ at $x_0$, we need to evaluate the function at $x_0 \\pm \\frac{\\Delta x}{2}$ for a sufficiently small $\\Delta x$. We call this a \"full-step\" derivative,\n",
    "$$\n",
    "\\frac{df}{dx}(x_0) \\approx \\frac{f(x_0 + \\frac{\\Delta x}{2}) - f(x_0 - \\frac{\\Delta x}{2})}{\\Delta x}.\n",
    "$$\n",
    "Similarly, we also define the \"half-step\" derivative,\n",
    "$$\n",
    "\\frac{df}{dx}(x_0 + \\frac{\\Delta x}{2}) \\approx \\frac{f(x_0 + \\Delta x) - f(x_0)}{\\Delta x}.\n",
    "$$\n",
    "\n",
    "## Maxwell's equations\n",
    "\n",
    "In general, Maxwell's equations are used to describe electrodynamics. Starting with the divergence equations, where $\\vec{D}$ is the electric displacement field and $\\vec{B}$ the magnetic displacement field,\n",
    "$$\n",
    "\\nabla \\cdot \\vec{D} = \\rho_v,\\\\\n",
    "\\nabla \\cdot \\vec{B} = 0.\n",
    "$$\n",
    "These equations describe how electric and magnetic fields behave in the presence of sources.\n",
    "The curl equations describe how the fields interact with each other:\n",
    "$$\n",
    "\\nabla \\times \\vec{E} = -\\frac{\\partial \\vec{B}}{\\partial t},\\\\\n",
    "\\nabla \\times \\vec{H} = \\frac{\\partial \\vec{D}}{\\partial t} + \\vec{J}.\n",
    "$$\n",
    "The constitutive relations describe how the fields interact with matter:\n",
    "$$\n",
    "\\vec{D}(t) = \\epsilon(t) * \\vec{E}(t),\\\\\n",
    "\\vec{B}(t) = \\mu(t) * \\vec{H}(t),\n",
    "$$\n",
    "where $\\epsilon(t)$ and $\\mu(t)$ are the permittivity and permeability, respectively, generally described as tensors to accommodate anisotropy and time-dependent to describe frequency dependence.\n",
    "\n",
    "## Some key assumptions\n",
    "\n",
    "We will make some simplifications:\n",
    "1. Assume no point and current source terms:\n",
    "$$\n",
    "\\nabla \\cdot \\vec{D} = \\rho_v,\\\\\n",
    "\\nabla \\cdot \\vec{B} = 0,\\\\\n",
    "\\nabla \\times \\vec{E} = -\\frac{\\partial \\vec{B}}{\\partial t},\\\\\n",
    "\\nabla \\times \\vec{H} = \\frac{\\partial \\vec{D}}{\\partial t}.\n",
    "$$\n",
    "2. Assume a linear, isotropic, and dispersion-free medium:\n",
    "$$\n",
    "\\vec{D}(t) = \\epsilon \\vec{E}(t),\\\\\n",
    "\\vec{B}(t) = \\mu \\vec{H}(t).\n",
    "$$\n",
    "3. Assume the field is propagating in the y-direction and the field is x-polarized:\n",
    "$$\n",
    "\\vec{\\nabla} \\times \\vec{E} = \\left( 0, 0, -\\frac{\\partial E_x}{\\partial y} \\right),\\\\\n",
    "\\vec{\\nabla} \\times \\vec{H} = \\left( 0, 0, \\frac{\\partial H_z}{\\partial y} \\right).\n",
    "$$\n",
    "\n",
    "## Deriving the update equations of FDTD\n",
    "\n",
    "We are now ready to derive the update equations of FDTD. Starting with the electric curl equation using a full-step derivative,\n",
    "$$\n",
    "\\begin{aligned}\n",
    "\\frac{\\partial E_x}{\\partial y} &= \\mu \\frac{\\partial H_z}{\\partial t},\\\\\n",
    "\\frac{\\partial E_x}{\\partial y} (t) &= \\mu \\frac{H_z(t + \\frac{\\Delta t}{2}) - H_z(t - \\frac{\\Delta t}{2})}{\\Delta t}.\n",
    "\\end{aligned}\n",
    "$$\n",
    "Similarly, with the magnetic curl equation using a half-step derivative,\n",
    "$$\n",
    "\\begin{aligned}\n",
    "\\frac{d H_z}{d y} &= \\epsilon \\frac{dE_x}{d t},\\\\\n",
    "\\frac{d H_z}{d y} (t+\\frac{\\Delta t}{2}) &= \\epsilon \\frac{E_x(t + \\Delta t) - E_x(t)}{\\Delta t}.\n",
    "\\end{aligned}\n",
    "$$\n",
    "\n",
    "By isolating the term one time-step in the futre, we get\n",
    "$$\n",
    "\\begin{aligned}\n",
    "H_z(t + \\frac{\\Delta t}{2}) &= H_z(t - \\frac{\\Delta t}{2})+\\Delta t \\frac{1}{\\mu}\\frac{d E_x}{d y}(t),\\\\\n",
    "E_x(t + \\Delta t) &= E_x(t)+\\Delta t\\frac{1}{\\epsilon}\\frac{d H_z}{d y}(t+\\frac{\\Delta t}{2}).\n",
    "\\end{aligned}\n",
    "$$\n",
    "We can similarly include the spacial derivatives, starting with the electric fields\n",
    "$$\n",
    "\\begin{aligned}\n",
    "\\frac{d E_x}{d y} (t) &= \\mu \\frac{H_z(t + \\frac{\\Delta t}{2}) - H_z(t - \\frac{\\Delta t}{2})}{\\Delta t}\\\\\n",
    "\\frac{E_x(y + \\Delta y, t) - E_x(y, t)}{\\Delta y} &= \\mu \\frac{H_z(y + \\frac{\\Delta y}{2}, t+\\frac{\\Delta t}{2}) - H_z(y + \\frac{\\Delta y}{2}, t-\\frac{\\Delta t}{2})}{\\Delta t},\n",
    "\\end{aligned}\n",
    "$$\n",
    "and the magnetic fields,\n",
    "$$\n",
    "\\begin{aligned}\n",
    "\\frac{d H_z}{d y} (t+\\frac{\\Delta t}{2}) &= \\epsilon \\frac{E_x(t + \\Delta t) - E_x(t)}{\\Delta t}\\\\\n",
    "\\frac{H_z(y + \\frac{\\Delta y}{2}, t) - H_z(y - \\frac{\\Delta y}{2}, t)}{\\Delta y} &= \\epsilon \\frac{E_x(y, t + \\Delta t) - E_x(y, t)}{\\Delta t}.\n",
    "\\end{aligned}\n",
    "$$\n",
    "\n",
    "Putting this all together, we get our update equations\n",
    "$$\n",
    "\\begin{aligned}\n",
    "H_z(y + \\frac{\\Delta y}{2}, t+\\frac{\\Delta t}{2}) = H_z(y + \\frac{\\Delta y}{2}, t-\\frac{\\Delta t}{2})+ \\Delta t\\frac{E_x(y + \\Delta y, t) - E_x(y, t)}{\\mu \\Delta y},\\\\\n",
    "E_x(y, t + \\Delta t) = E_x(y, t) + \\Delta t \\frac{H_z(y + \\frac{\\Delta y}{2}, t) - H_z(y - \\frac{\\Delta y}{2}, t)}{\\epsilon \\Delta y}.\n",
    "\\end{aligned}\n",
    "$$\n",
    "\n",
    "Since we are coding this on a computer, we will replace $t, t + \\Delta t$ as $n, n+1$ and $y - \\frac{\\Delta y}{2}, y + \\frac{\\Delta y}{2}$ as $j, j-1$.\n",
    "\n",
    "$$\n",
    "\\begin{aligned}\n",
    "H_z[j, n] &= H_z[j, n-1] + \\frac{\\Delta t}{\\mu \\Delta y} \\left( E_x[j+1, n] - E_x[j, n] \\right), \\\\\n",
    "E_x[j, n+1] &= E_x[j, n] + \\frac{\\Delta t}{\\epsilon \\Delta y} \\left( H_z[j, n] - H_z[j - 1, n] \\right).\n",
    "\\end{aligned}\n",
    "$$\n",
    "\n",
    "In order the ensure convergence, we will set $\\Delta x=\\lambda/(20*10)$ (since typically we scale by a factor of 20, but we will also be using carrier frequencies that are 10 times quicker than the envelope function) and $\\Delta t = \\Delta x / c_0$ where $c_0$ is the speed of light.\n",
    "\n",
    "We can finally start constructing our FDTD code!"
   ]
  },
  {
   "cell_type": "code",
   "execution_count": 4,
   "metadata": {},
   "outputs": [],
   "source": [
    "jmax = 1000 # Total number of space steps\n",
    "nmax = 5000 # Total number of time steps"
   ]
  },
  {
   "cell_type": "code",
   "execution_count": 5,
   "metadata": {},
   "outputs": [],
   "source": [
    "wavelength = 300e-9 #lambda = 300nm\n",
    "dx = wavelength/200\n",
    "dt = dx/c0"
   ]
  },
  {
   "cell_type": "markdown",
   "metadata": {},
   "source": [
    "### FDTD Update Equations Pseudocode\n",
    "\n",
    "```plaintext\n",
    "Initialize Hz_all and Ex_all arrays with appropriate dimensions and initial conditions of 0\n",
    "\n",
    "FOR n = 1 TO nmax - 1\n",
    "    FOR j = 0 TO jmax - 2\n",
    "        Hz_all[n + 1, j] = Hz_all[n, j] + (dt / (dx * mu0)) * (Ex_all[n, j + 1] - Ex_all[n, j])\n",
    "    ENDFOR\n",
    "\n",
    "    FOR j = 1 TO jmax - 1\n",
    "        Ex_all[n + 1, j] = Ex_all[n, j] + (dt / (dx * eps)) * (Hz_all[n + 1, j] - Hz_all[n + 1, j - 1])\n",
    "    ENDFOR\n",
    "ENDFOR\n"
   ]
  },
  {
   "cell_type": "code",
   "execution_count": 6,
   "metadata": {},
   "outputs": [
    {
     "data": {
      "application/vnd.jupyter.widget-view+json": {
       "model_id": "9898e71a9bbb45bf96883d87f38cec4c",
       "version_major": 2,
       "version_minor": 0
      },
      "text/plain": [
       "interactive(children=(IntSlider(value=0, description='Time Step', max=4999), Output()), _dom_classes=('widget-…"
      ]
     },
     "metadata": {},
     "output_type": "display_data"
    },
    {
     "data": {
      "text/plain": [
       "<function __main__.plot_frame(n=0)>"
      ]
     },
     "execution_count": 6,
     "metadata": {},
     "output_type": "execute_result"
    }
   ],
   "source": [
    "Ex_all = np.zeros((nmax, jmax))\n",
    "Hz_all = np.zeros((nmax, jmax))\n",
    "\n",
    "eps = epsilon0\n",
    "\n",
    "# Simulation loop\n",
    "for n in range(1, nmax): # Looping across all time steps\n",
    "    for j in range(jmax-1): # Looping across all space steps\n",
    "        Hz_all[n, j] = Hz_all[n-1, j] + dt / (dx * mu0) * (Ex_all[n-1, j+1] - Ex_all[n-1, j]) # Updating Hz\n",
    "    for j in range(1, jmax): # Looping across all space steps\n",
    "        Ex_all[n, j] = Ex_all[n-1, j] + dt / (dx * eps) * (Hz_all[n, j] - Hz_all[n, j-1]) #  pdating Ex\n",
    "\n",
    "def plot_frame(n=0):\n",
    "    plt.figure(figsize=(8, 5))\n",
    "    plt.plot(Ex_all[n, :])\n",
    "    plt.title(f\"Electric Field at Time Step: {n}\")\n",
    "    plt.ylim(-1.5, 1.5)\n",
    "    plt.show()\n",
    "\n",
    "# Create an interactive widget\n",
    "interact(plot_frame, n=IntSlider(min=0, max=nmax-1, step=1, value=0, description='Time Step'))"
   ]
  },
  {
   "cell_type": "markdown",
   "metadata": {},
   "source": [
    "Of course the electric field is 0 everywhere, since we have not introduced any sources!"
   ]
  },
  {
   "cell_type": "markdown",
   "metadata": {},
   "source": [
    "### Adding sources\n",
    "\n",
    "To add a source term, we just need to define a time-dependent source term and update the approxiate values of Ex[n, jsource]"
   ]
  },
  {
   "cell_type": "code",
   "execution_count": 7,
   "metadata": {},
   "outputs": [],
   "source": [
    "jsource = 300 # Position of a source term\n",
    "\n",
    "def source_pulse(t):\n",
    "    carrier_wavelength = wavelength/10\n",
    "    w0 = 2*np.pi*c0/carrier_wavelength\n",
    "    width = 60\n",
    "    \n",
    "    return np.exp(-((t-width*3)**2)/width**2)*np.sin(w0*t*dt)"
   ]
  },
  {
   "cell_type": "code",
   "execution_count": 8,
   "metadata": {},
   "outputs": [
    {
     "data": {
      "application/vnd.jupyter.widget-view+json": {
       "model_id": "e6d521a2bfd745589a5348b32832f8e4",
       "version_major": 2,
       "version_minor": 0
      },
      "text/plain": [
       "interactive(children=(IntSlider(value=0, description='Time Step', max=4999), Output()), _dom_classes=('widget-…"
      ]
     },
     "metadata": {},
     "output_type": "display_data"
    },
    {
     "data": {
      "text/plain": [
       "<function __main__.plot_frame(n=0)>"
      ]
     },
     "execution_count": 8,
     "metadata": {},
     "output_type": "execute_result"
    }
   ],
   "source": [
    "Ex_all = np.zeros((nmax, jmax))\n",
    "Hz_all = np.zeros((nmax, jmax))\n",
    "\n",
    "eps = epsilon0\n",
    "\n",
    "# Simulation loop\n",
    "for n in range(1, nmax): # Looping across all time steps\n",
    "    for j in range(jmax-1): # Looping across all space steps\n",
    "        Hz_all[n, j] = Hz_all[n-1, j] + dt / (dx * mu0) * (Ex_all[n-1, j+1] - Ex_all[n-1, j]) # Updating Hz\n",
    "    for j in range(1, jmax): # Looping across all space steps\n",
    "        Ex_all[n, j] = Ex_all[n-1, j] + dt / (dx * eps) * (Hz_all[n, j] - Hz_all[n, j-1]) # Updating Ex\n",
    "    Ex_all[n, jsource] += source_pulse(n+1) # Adding the electric source term\n",
    "\n",
    "def plot_frame(n=0):\n",
    "    plt.figure(figsize=(8, 5))\n",
    "    plt.plot(Ex_all[n, :])\n",
    "    plt.title(f\"Electric Field at Time Step: {n}\")\n",
    "    plt.ylim(-1.5, 1.5)\n",
    "    plt.show()\n",
    "\n",
    "# Create an interactive widget\n",
    "interact(plot_frame, n=IntSlider(min=0, max=nmax-1, step=1, value=0, description='Time Step'))"
   ]
  },
  {
   "cell_type": "markdown",
   "metadata": {},
   "source": [
    "notice how we have both forward and backward propagating terms? Let's fix that.\n",
    "\n",
    "### Adding a magnetic field source the cancel out the backward propagating field.\n",
    "\n",
    "We can cancel out the backward propagating field by adding a magnetic field source Hz[n, jsource-1] = -source/imp0\n",
    "\n",
    "where imp0 is the impedence $\\sqrt{\\mu_0/\\epsilon_0}$"
   ]
  },
  {
   "cell_type": "code",
   "execution_count": 9,
   "metadata": {},
   "outputs": [],
   "source": [
    "imp0 = np.sqrt(mu0/epsilon0)"
   ]
  },
  {
   "cell_type": "code",
   "execution_count": 10,
   "metadata": {},
   "outputs": [
    {
     "data": {
      "application/vnd.jupyter.widget-view+json": {
       "model_id": "d9eefb532996445288d520149251576a",
       "version_major": 2,
       "version_minor": 0
      },
      "text/plain": [
       "interactive(children=(IntSlider(value=0, description='Time Step', max=4999), Output()), _dom_classes=('widget-…"
      ]
     },
     "metadata": {},
     "output_type": "display_data"
    },
    {
     "data": {
      "text/plain": [
       "<function __main__.plot_frame(n=0)>"
      ]
     },
     "execution_count": 10,
     "metadata": {},
     "output_type": "execute_result"
    }
   ],
   "source": [
    "Ex_all = np.zeros((nmax, jmax))\n",
    "Hz_all = np.zeros((nmax, jmax))\n",
    "\n",
    "eps = epsilon0\n",
    "\n",
    "# Simulation loop\n",
    "for n in range(1, nmax): # Looping across all time steps\n",
    "    for j in range(jmax-1): # Looping across all space steps\n",
    "        Hz_all[n, j] = Hz_all[n-1, j] + dt / (dx * mu0) * (Ex_all[n-1, j+1] - Ex_all[n-1, j]) # Updating Hz\n",
    "    Hz_all[n, jsource-1] -= source_pulse(n) / imp0 # Adding the magnetic source term\n",
    "    for j in range(1, jmax): # Looping across all space steps\n",
    "        Ex_all[n, j] = Ex_all[n-1, j] + dt / (dx * eps) * (Hz_all[n, j] - Hz_all[n, j-1]) # Updating Ex\n",
    "    Ex_all[n, jsource] += source_pulse(n+1) # Adding the electric source term\n",
    "\n",
    "def plot_frame(n=0):\n",
    "    plt.figure(figsize=(8, 5))\n",
    "    plt.plot(Ex_all[n, :])\n",
    "    plt.title(f\"Electric Field at Time Step: {n}\")\n",
    "    plt.ylim(-1.5, 1.5)\n",
    "    plt.show()\n",
    "\n",
    "# Create an interactive widget\n",
    "interact(plot_frame, n=IntSlider(min=0, max=nmax-1, step=1, value=0, description='Time Step'))"
   ]
  },
  {
   "cell_type": "markdown",
   "metadata": {},
   "source": [
    "Now, we should only see one pulse bouncing around in the simulation. Why is it bouncing around, that's because we haven't specified our boundary conditions yet, which defaults to a perfect electric condition (PEC).\n",
    "\n",
    "### Boundary conditions\n",
    "\n",
    "In our previous loop, we were never updating Ex[j=0] and Hz[j=jmax], so they are always set to 0, which corresponds to a perfect conduction, where electric fields are not allowed inside the material, thus giving us the PEC. Since these reflections can be troublesome in some cases, we will implement a basic absorbing boundary condition, known as the Mur boundary condition.\n",
    "\n",
    "Ex[j=0, n+1] = Ex[j=1, n]\n",
    "Hz[j=jmax, n] = Hz[j=jmax-1, n]"
   ]
  },
  {
   "cell_type": "code",
   "execution_count": 11,
   "metadata": {},
   "outputs": [
    {
     "data": {
      "application/vnd.jupyter.widget-view+json": {
       "model_id": "a014d9efea3b4ebe97037d421649cf89",
       "version_major": 2,
       "version_minor": 0
      },
      "text/plain": [
       "interactive(children=(IntSlider(value=0, description='Time Step', max=4999), Output()), _dom_classes=('widget-…"
      ]
     },
     "metadata": {},
     "output_type": "display_data"
    },
    {
     "data": {
      "text/plain": [
       "<function __main__.plot_frame(n=0)>"
      ]
     },
     "execution_count": 11,
     "metadata": {},
     "output_type": "execute_result"
    }
   ],
   "source": [
    "Ex_all = np.zeros((nmax, jmax))\n",
    "Hz_all = np.zeros((nmax, jmax))\n",
    "\n",
    "eps = epsilon0\n",
    "\n",
    "# Simulation loop\n",
    "for n in range(1, nmax): # Looping across all time steps\n",
    "    Hz_all[n, jmax-1] = Hz_all[n-1, jmax-2] # Mur boundary condition\n",
    "    for j in range(jmax-1): # Looping across all space steps\n",
    "        Hz_all[n, j] = Hz_all[n-1, j] + dt / (dx * mu0) * (Ex_all[n-1, j+1] - Ex_all[n-1, j]) # Updating Hz\n",
    "    Hz_all[n, jsource-1] -= source_pulse(n) / imp0 # Adding the magnetic source term\n",
    "    Ex_all[n, 0] = Ex_all[n-1, 1] # Mur boundary condition\n",
    "    for j in range(1, jmax): # Looping across all space steps\n",
    "        Ex_all[n, j] = Ex_all[n-1, j] + dt / (dx * eps) * (Hz_all[n, j] - Hz_all[n, j-1]) # Updating Ex\n",
    "    Ex_all[n, jsource] += source_pulse(n+1) # Adding the electric source term\n",
    "\n",
    "def plot_frame(n=0):\n",
    "    plt.figure(figsize=(8, 5))\n",
    "    plt.plot(Ex_all[n, :])\n",
    "    plt.title(f\"Electric Field at Time Step: {n}\")\n",
    "    plt.ylim(-1.5, 1.5)\n",
    "    plt.show()\n",
    "\n",
    "# Create an interactive widget\n",
    "interact(plot_frame, n=IntSlider(min=0, max=nmax-1, step=1, value=0, description='Time Step'))"
   ]
  },
  {
   "cell_type": "markdown",
   "metadata": {},
   "source": [
    "Now, the pulse gets perfectly absorbed by the edges of the simulation.\n",
    "\n",
    "### Modeling a linear thin-film\n",
    "\n",
    "Previously, we've always set the permittivity $\\epsilon = \\epsilon_0$, corresponding to a vacuum. Now, let's introduce a thin-film with refractive index $n=3$, so $\\epsilon=9$"
   ]
  },
  {
   "cell_type": "code",
   "execution_count": 12,
   "metadata": {},
   "outputs": [
    {
     "data": {
      "text/plain": [
       "1.5e-07"
      ]
     },
     "execution_count": 12,
     "metadata": {},
     "output_type": "execute_result"
    }
   ],
   "source": [
    "region_start = 700 # Start of the thin-film\n",
    "region_end = 800 # End of the thin-film\n",
    "\n",
    "eps = np.ones(jmax)*epsilon0\n",
    "eps[region_start:region_end] = 9*epsilon0\n",
    "\n",
    "100*dx"
   ]
  },
  {
   "cell_type": "markdown",
   "metadata": {},
   "source": [
    "The thin-film is $1.5\\mu m$, which is 100 indices thick."
   ]
  },
  {
   "cell_type": "code",
   "execution_count": 13,
   "metadata": {},
   "outputs": [
    {
     "data": {
      "application/vnd.jupyter.widget-view+json": {
       "model_id": "18ced09a79b64ac1a7adaf3460d55500",
       "version_major": 2,
       "version_minor": 0
      },
      "text/plain": [
       "interactive(children=(IntSlider(value=0, description='Time Step', max=4999), Output()), _dom_classes=('widget-…"
      ]
     },
     "metadata": {},
     "output_type": "display_data"
    },
    {
     "data": {
      "text/plain": [
       "<function __main__.plot_frame(n=0)>"
      ]
     },
     "execution_count": 13,
     "metadata": {},
     "output_type": "execute_result"
    }
   ],
   "source": [
    "Ex_all = np.zeros((nmax, jmax))\n",
    "Hz_all = np.zeros((nmax, jmax))\n",
    "\n",
    "# Simulation loop\n",
    "for n in range(1, nmax): # Looping across all time steps\n",
    "    Hz_all[n, jmax-1] = Hz_all[n-1, jmax-2] # Mur boundary condition\n",
    "    for j in range(jmax-1): # Looping across all space steps\n",
    "        Hz_all[n, j] = Hz_all[n-1, j] + dt / (dx * mu0) * (Ex_all[n-1, j+1] - Ex_all[n-1, j]) # Updating Hz\n",
    "    Hz_all[n, jsource-1] -= source_pulse(n) / imp0 # Adding the magnetic source term\n",
    "    Ex_all[n, 0] = Ex_all[n-1, 1] # Mur boundary condition\n",
    "    for j in range(1, jmax): # Looping across all space steps\n",
    "        Ex_all[n, j] = Ex_all[n-1, j] + dt / (dx * eps[j]) * (Hz_all[n, j] - Hz_all[n, j-1]) # Updating Ex\n",
    "    Ex_all[n, jsource] += source_pulse(n+1) # Adding the electric source term\n",
    "\n",
    "def plot_frame(n=0):\n",
    "    fig, ax1 = plt.subplots(figsize=(8, 5))\n",
    "\n",
    "    # Plotting the Electric field\n",
    "    color = 'tab:red'\n",
    "    ax1.plot(Ex_all[n, :], color=color)\n",
    "    ax1.set_xlabel('Position')\n",
    "    ax1.set_ylabel('Electric Field (V/m)', color=color)\n",
    "    ax1.tick_params(axis='y', labelcolor=color)\n",
    "    ax1.set_ylim(-1.5, 1.5)\n",
    "    ax1.set_title(f\"Electric Field and Permittivity at Time Step: {n}\")\n",
    "\n",
    "    # Create a second y-axis for the permittivity\n",
    "    ax2 = ax1.twinx()\n",
    "    color = 'tab:blue'\n",
    "    ax2.plot(eps / epsilon0, color=color)  # Normalize eps by epsilon0 for better visibility\n",
    "    ax2.set_ylabel('Relative Permittivity (ε/ε₀)', color=color)\n",
    "    ax2.tick_params(axis='y', labelcolor=color)\n",
    "    ax2.set_ylim(0, 11)  # Adjust y-limit to permittivity range\n",
    "\n",
    "    plt.show()\n",
    "\n",
    "# Create an interactive widget\n",
    "interact(plot_frame, n=IntSlider(min=0, max=nmax-1, step=1, value=0, description='Time Step'))"
   ]
  },
  {
   "cell_type": "markdown",
   "metadata": {},
   "source": [
    "Now, we can see the pulse interacting with the thin-film. Specifically, we can see the transmitted and reflected componenets outside the film, as well as the components trapped inside the film from Fresnel reflection.\n",
    "\n",
    "### Instantaneous Nonlinearity\n",
    "Let's add nonlinearity!\n",
    "\n",
    "The development of instantenous nonlinearity is simple. Recall we had our update equation\n",
    "\n",
    "$$\n",
    "E_x(y, t + \\Delta t) = E_x(y, t) + \\Delta t \\frac{H_z(y + \\frac{\\Delta y}{2}, t) - H_z(y - \\frac{\\Delta y}{2}, t)}{\\epsilon \\Delta y}.\n",
    "$$\n",
    "We will now replace that with\n",
    "$$\n",
    "D_x(y, t + \\Delta t) = D_x(y, t) + \\Delta t \\frac{H_z(y + \\frac{\\Delta y}{2}, t) - H_z(y - \\frac{\\Delta y}{2}, t)}{\\Delta y},\\\\\n",
    "E_x(y, t + \\Delta t) = f\\Big(D_x(y, t + \\Delta t...0), E_x(y, t...0)\\Big),\n",
    "$$\n",
    "which is intuitive, since $D_x$ generally describes how the fields interact with matter.\n",
    "\n",
    "In genearl, dispersive nonlinearity can be difficult to model, but since we are interested in the instantaneous case, the equation simplifies to\n",
    "$$\n",
    "E_x(y, t + \\Delta t) = f\\Big(D_x(y, t + \\Delta t), E_x(y, t)\\Big).\n",
    "$$\n",
    "\n",
    "For a $\\Chi^{(2)}$ material, we can derive the update equation straigtforwardly\n",
    "$$\n",
    "\\begin{aligned}\n",
    "D_x &= \\epsilon_0 E_x + P_x\\\\\n",
    "&= \\epsilon_0 E_x + \\epsilon_0(\\chi^{(1)} E_x+\\epsilon_0\\chi^{(2)}E_x^2)\\\\\n",
    "&= \\epsilon_0 (1+\\chi^{(1)}) E_x + \\epsilon_0\\chi^{(2)}E_x^2\\\\\n",
    "&= \\epsilon_0 n_0^2 E_x + \\epsilon_0\\chi^{(2)}E_x^2 \\\\\n",
    "\\end{aligned}\n",
    "$$\n",
    "rearranging the equation gives us\n",
    "$$\n",
    "E_x(y, t + \\Delta t) = \\frac{D_x(y, t + \\Delta t)}{\\epsilon_0(n_0^2+\\chi^{(2)}E_x(y, t))}\n",
    "$$"
   ]
  },
  {
   "cell_type": "markdown",
   "metadata": {},
   "source": [
    "In order to see an apparent $\\Chi^{(2)}$ effect, namely second-harmonic geneartion, we will use an approximately monochromatic pulse using a supergaussian."
   ]
  },
  {
   "cell_type": "code",
   "execution_count": 14,
   "metadata": {},
   "outputs": [],
   "source": [
    "def source_CW(t):\n",
    "    carrier_wavelength = wavelength/5 # Decreasing this a bit so we can see the peaks easier\n",
    "    w0 = 2*np.pi*c0/carrier_wavelength\n",
    "    width = 60\n",
    "    \n",
    "    return np.exp(-((t-width*10)/(5*width))**10)*np.sin(w0*t*dt)"
   ]
  },
  {
   "cell_type": "markdown",
   "metadata": {},
   "source": [
    "Initally, $\\Chi^{(2)}=0$, so we should expect fully-linear behaviour. "
   ]
  },
  {
   "cell_type": "code",
   "execution_count": 15,
   "metadata": {},
   "outputs": [
    {
     "data": {
      "application/vnd.jupyter.widget-view+json": {
       "model_id": "ab0928576d2d4c26ac6d7d5f522e9906",
       "version_major": 2,
       "version_minor": 0
      },
      "text/plain": [
       "interactive(children=(IntSlider(value=0, description='Time Step', max=4999), Output()), _dom_classes=('widget-…"
      ]
     },
     "metadata": {},
     "output_type": "display_data"
    },
    {
     "data": {
      "text/plain": [
       "<function __main__.plot_frame(n=0)>"
      ]
     },
     "execution_count": 15,
     "metadata": {},
     "output_type": "execute_result"
    }
   ],
   "source": [
    "Ex_all = np.zeros((nmax, jmax))\n",
    "Dx_all = np.zeros((nmax, jmax))\n",
    "Hz_all = np.zeros((nmax, jmax))\n",
    "\n",
    "eps = np.ones(jmax)*epsilon0\n",
    "eps[region_start:region_end] = 9*epsilon0\n",
    "X2 = np.zeros(jmax)\n",
    "X2[region_start:region_end] = 0\n",
    "\n",
    "# Simulation loop\n",
    "for n in range(1, nmax): # Looping across all time steps\n",
    "    Hz_all[n, jmax-1] = Hz_all[n-1, jmax-2] # Mur boundary condition\n",
    "    for j in range(jmax-1): # Looping across all space steps\n",
    "        Hz_all[n, j] = Hz_all[n-1, j] + dt / (dx * mu0) * (Ex_all[n-1, j+1] - Ex_all[n-1, j]) # Updating Hz\n",
    "    Hz_all[n, jsource-1] -= source_CW(n) / imp0 #Adding the magnetic source term\n",
    "    Ex_all[n, 0] = Ex_all[n-1, 1] # Mur boundary condition\n",
    "    for j in range(1, jmax): # Looping across all space steps\n",
    "        Dx_all[n, j] = Dx_all[n-1, j] + dt / (dx) * (Hz_all[n, j] - Hz_all[n, j-1]) # Updating Dx\n",
    "        Ex_all[n, j] = Dx_all[n, j] / (eps[j]+epsilon0*X2[j]*Ex_all[n, j-1]) # Updating Ex\n",
    "    Ex_all[n, jsource] += source_CW(n+1) # Adding the electric source term\n",
    "\n",
    "def plot_frame(n=0):\n",
    "    fig, ax1 = plt.subplots(figsize=(8, 5))\n",
    "\n",
    "    # Plotting the Electric field\n",
    "    color = 'tab:red'\n",
    "    ax1.plot(Ex_all[n, :], color=color)\n",
    "    ax1.set_xlabel('Position')\n",
    "    ax1.set_ylabel('Electric Field (V/m)', color=color)\n",
    "    ax1.tick_params(axis='y', labelcolor=color)\n",
    "    ax1.set_ylim(-1.5, 1.5)\n",
    "    ax1.set_title(f\"Electric Field and Permittivity at Time Step: {n}\")\n",
    "\n",
    "    # Create a second y-axis for the permittivity\n",
    "    ax2 = ax1.twinx()\n",
    "    color = 'tab:blue'\n",
    "    ax2.plot(eps / epsilon0, color=color)  # Normalize eps by epsilon0 for better visibility\n",
    "    ax2.set_ylabel('Relative Permittivity (ε/ε₀)', color=color)\n",
    "    ax2.tick_params(axis='y', labelcolor=color)\n",
    "    ax2.set_ylim(0, 11)  # Adjust y-limit to permittivity range\n",
    "\n",
    "    plt.show()\n",
    "\n",
    "# Create an interactive widget\n",
    "interact(plot_frame, n=IntSlider(min=0, max=nmax-1, step=1, value=0, description='Time Step'))"
   ]
  },
  {
   "cell_type": "markdown",
   "metadata": {},
   "source": [
    "One issue that one can already observe is that the backward propagating field is appearing again. This wouldn't be very easy to fix, since we've introduced a new Dx term. Since it gets absorbed by our boundary condition, it should not affect our simulation."
   ]
  },
  {
   "cell_type": "code",
   "execution_count": 16,
   "metadata": {},
   "outputs": [
    {
     "data": {
      "image/png": "[encoded data removed]",
      "text/plain": [
       "<Figure size 1000x600 with 2 Axes>"
      ]
     },
     "metadata": {},
     "output_type": "display_data"
    }
   ],
   "source": [
    "# Frequency axis setup\n",
    "N = region_end - region_start  # Number of points in FFT\n",
    "# Frequency array preparation (assuming dt is your sampling interval)\n",
    "frequency_bins = np.fft.fftshift(np.fft.fftfreq(N, d=dt))\n",
    "\n",
    "# Frequency analysis setup\n",
    "frequency_content = np.zeros((nmax, N))\n",
    "\n",
    "for n in range(nmax):\n",
    "    region_data = Ex_all[n, region_start:region_end]\n",
    "    fft_result = np.fft.fftshift(np.fft.fft(region_data))\n",
    "    frequency_content[n, :] = np.abs(fft_result)\n",
    "\n",
    "# Normalize frequency content for better visualization\n",
    "frequency_content = np.log1p(frequency_content)  # Logarithmic scale for better visibility\n",
    "\n",
    "# Visualizing the frequency content over time\n",
    "plt.figure(figsize=(10, 6))\n",
    "plt.imshow(frequency_content.T, aspect='auto', origin='lower',\n",
    "           extent=[0, nmax, frequency_bins[0], frequency_bins[-1]])\n",
    "plt.colorbar(label='Log-scaled Magnitude')\n",
    "plt.xlabel('Time Step')\n",
    "plt.ylabel('Frequency (Hz)')\n",
    "plt.title('Frequency Content of the material Over Time')\n",
    "plt.show()"
   ]
  },
  {
   "cell_type": "markdown",
   "metadata": {},
   "source": [
    "As expected, we only see two frequency components in our material.\n",
    "\n",
    "Now, let's add some nonlinearity, setting $\\Chi^{(2)} = 5$."
   ]
  },
  {
   "cell_type": "code",
   "execution_count": 17,
   "metadata": {},
   "outputs": [
    {
     "data": {
      "application/vnd.jupyter.widget-view+json": {
       "model_id": "707bac4dcd0349d8befd8ec87d3f0fb9",
       "version_major": 2,
       "version_minor": 0
      },
      "text/plain": [
       "interactive(children=(IntSlider(value=0, description='Time Step', max=4999), Output()), _dom_classes=('widget-…"
      ]
     },
     "metadata": {},
     "output_type": "display_data"
    },
    {
     "data": {
      "text/plain": [
       "<function __main__.plot_frame(n=0)>"
      ]
     },
     "execution_count": 17,
     "metadata": {},
     "output_type": "execute_result"
    }
   ],
   "source": [
    "Ex_all = np.zeros((nmax, jmax))\n",
    "Dx_all = np.zeros((nmax, jmax))\n",
    "Hz_all = np.zeros((nmax, jmax))\n",
    "\n",
    "eps = np.ones(jmax)*epsilon0\n",
    "eps[region_start:region_end] = 9*epsilon0\n",
    "X2 = np.zeros(jmax)\n",
    "X2[region_start:region_end] = 2\n",
    "\n",
    "# Simulation loop\n",
    "for n in range(1, nmax): # Looping across all time steps\n",
    "    Hz_all[n, jmax-1] = Hz_all[n-1, jmax-2] # Mur boundary condition\n",
    "    for j in range(jmax-1): #looping across all space steps\n",
    "        Hz_all[n, j] = Hz_all[n-1, j] + dt / (dx * mu0) * (Ex_all[n-1, j+1] - Ex_all[n-1, j]) # Updating Hz\n",
    "    Hz_all[n, jsource-1] -= source_CW(n) / imp0 # Adding the magnetic source term\n",
    "    Ex_all[n, 0] = Ex_all[n-1, 1] # Mur boundary condition\n",
    "    for j in range(1, jmax): # Looping across all space steps\n",
    "        Dx_all[n, j] = Dx_all[n-1, j] + dt / (dx) * (Hz_all[n, j] - Hz_all[n, j-1]) # Updating Dx\n",
    "        Ex_all[n, j] = Dx_all[n, j] / (eps[j]+epsilon0*X2[j]*Ex_all[n, j-1]) # Updating Ex\n",
    "    Ex_all[n, jsource] += source_CW(n+1) # Adding the electric source term\n",
    "\n",
    "def plot_frame(n=0):\n",
    "    fig, ax1 = plt.subplots(figsize=(8, 5))\n",
    "\n",
    "    # Plotting the Electric field\n",
    "    color = 'tab:red'\n",
    "    ax1.plot(Ex_all[n, :], color=color)\n",
    "    ax1.set_xlabel('Position')\n",
    "    ax1.set_ylabel('Electric Field (V/m)', color=color)\n",
    "    ax1.tick_params(axis='y', labelcolor=color)\n",
    "    ax1.set_ylim(-1.5, 1.5)\n",
    "    ax1.set_title(f\"Electric Field and Permittivity at Time Step: {n}\")\n",
    "\n",
    "    # Create a second y-axis for the permittivity\n",
    "    ax2 = ax1.twinx()\n",
    "    color = 'tab:blue'\n",
    "    ax2.plot(eps / epsilon0, color=color)  # Normalize eps by epsilon0 for better visibility\n",
    "    ax2.set_ylabel('Relative Permittivity (ε/ε₀)', color=color)\n",
    "    ax2.tick_params(axis='y', labelcolor=color)\n",
    "    ax2.set_ylim(0, 11)  # Adjust y-limit to permittivity range\n",
    "\n",
    "    plt.show()\n",
    "\n",
    "# Create an interactive widget\n",
    "interact(plot_frame, n=IntSlider(min=0, max=nmax-1, step=1, value=0, description='Time Step'))"
   ]
  },
  {
   "cell_type": "markdown",
   "metadata": {},
   "source": [
    "We can already see signs of higher order frequencies by looking at the waveform right after the thin-film.\n",
    "\n",
    "Looking at this in the frequency domain, we can clearly see higher-order harmonics appearing."
   ]
  },
  {
   "cell_type": "code",
   "execution_count": 18,
   "metadata": {},
   "outputs": [
    {
     "data": {
      "application/vnd.jupyter.widget-view+json": {
       "model_id": "7cbcf6bdec6f49c7991791ea7e314d17",
       "version_major": 2,
       "version_minor": 0
      },
      "text/plain": [
       "interactive(children=(IntSlider(value=0, description='Time Step', max=4999), Output()), _dom_classes=('widget-…"
      ]
     },
     "metadata": {},
     "output_type": "display_data"
    },
    {
     "data": {
      "text/plain": [
       "<function __main__.plot_frame(n=0)>"
      ]
     },
     "execution_count": 18,
     "metadata": {},
     "output_type": "execute_result"
    }
   ],
   "source": [
    "Ex_all = np.zeros((nmax, jmax))\n",
    "Dx_all = np.zeros((nmax, jmax))\n",
    "Hz_all = np.zeros((nmax, jmax))\n",
    "\n",
    "eps = np.ones(jmax)*epsilon0\n",
    "eps[region_start:region_end] = 9*epsilon0\n",
    "X2 = np.zeros(jmax)\n",
    "X2[region_start:region_end] = 2\n",
    "\n",
    "# Simulation loop\n",
    "for n in range(1, nmax): # Looping across all time steps\n",
    "    Hz_all[n, jmax-1] = Hz_all[n-1, jmax-2] # Mur boundary condition\n",
    "    for j in range(jmax-1): #looping across all space steps\n",
    "        Hz_all[n, j] = Hz_all[n-1, j] + dt / (dx * mu0) * (Ex_all[n-1, j+1] - Ex_all[n-1, j]) # Updating Hz\n",
    "    Hz_all[n, jsource-1] -= source_CW(n) / imp0 # Adding the magnetic source term\n",
    "    Ex_all[n, 0] = Ex_all[n-1, 1] # Mur boundary condition\n",
    "    for j in range(1, jmax): # Looping across all space steps\n",
    "        Dx_all[n, j] = Dx_all[n-1, j] + dt / (dx) * (Hz_all[n, j] - Hz_all[n, j-1]) # Updating Dx\n",
    "        Ex_all[n, j] = Dx_all[n, j] / (eps[j]+epsilon0*X2[j]*Ex_all[n, j-1]) # Updating Ex\n",
    "    Ex_all[n, jsource] += source_CW(n+1) # Adding the electric source term\n",
    "\n",
    "def plot_frame(n=0):\n",
    "    fig, ax1 = plt.subplots(figsize=(8, 5))\n",
    "\n",
    "    # Plotting the Electric field\n",
    "    color = 'tab:red'\n",
    "    ax1.plot(Ex_all[n, :], color=color)\n",
    "    ax1.set_xlabel('Position')\n",
    "    ax1.set_ylabel('Electric Field (V/m)', color=color)\n",
    "    ax1.tick_params(axis='y', labelcolor=color)\n",
    "    ax1.set_ylim(-1.5, 1.5)\n",
    "    ax1.set_title(f\"Electric Field and Permittivity at Time Step: {n}\")\n",
    "\n",
    "    # Create a second y-axis for the permittivity\n",
    "    ax2 = ax1.twinx()\n",
    "    color = 'tab:blue'\n",
    "    ax2.plot(eps / epsilon0, color=color)  # Normalize eps by epsilon0 for better visibility\n",
    "    ax2.set_ylabel('Relative Permittivity (ε/ε₀)', color=color)\n",
    "    ax2.tick_params(axis='y', labelcolor=color)\n",
    "    ax2.set_ylim(0, 11)  # Adjust y-limit to permittivity range\n",
    "\n",
    "    plt.show()\n",
    "\n",
    "# Create an interactive widget\n",
    "interact(plot_frame, n=IntSlider(min=0, max=nmax-1, step=1, value=0, description='Time Step'))"
   ]
  },
  {
   "cell_type": "markdown",
   "metadata": {},
   "source": [
    "An immediate critique is that we see not only the second harmonic, but higher-order harmonics as well. This is expected and would be difficult to fix. Since my implementation of instantaneous nonlinearity is boardband, every new frequency will experience the same $\\Chi^{(2)}$. Thus, the second-harmonic will create the third, the fourth, etc. One possible treatment is that we can extend this simulation to 2D. There, we can define a waveguide that only supports 2 of those modes, thus restriction our process to only the second harmonic."
   ]
  },
  {
   "cell_type": "markdown",
   "metadata": {},
   "source": [
    "### Discussion\n",
    "\n",
    "Overall, we've demonstrated 1D Nonlinear FDTD from scratch, looking into source terms, boundary conditions, linear and nonlinear responses. There are many ways one may extend this project. To 2D, 3D, and incorporating linear and nonlinear dispersion, which will allow simulations of solitons, Raman, and Brillouin scattering processes. One may also extend the analysis of second-harmonic generation by considering phase-matching conditions.\n",
    "\n",
    "Some consequences of FDTD that we have observed:\n",
    "1. FDTD is broadband. We saw how easy it is to observe mulitple frequencies in our simulation of second harmonic generation.\n",
    "2. Though never explicitly stated, FDTD natively satisfies the Maxwell divergence equations.\n",
    "3. It also natually satisfies the physica boundary conditions at material interfaces.\n",
    "4. This very implementation is second-order accurate.\n",
    "\n",
    "This project followed these two papers closely.\n",
    "\n",
    "[1] K. Yee. Numerical solution of initial boundary value problems involving Maxwell’s equations in isotropic media (1966)\n",
    "\n",
    "[2] R. Joseph, A. Taflove. FDTD Maxwell’s Equations Models for Nonlinear electrodynamics and Optics (1997)"
   ]
  },
  {
   "cell_type": "markdown",
   "metadata": {},
   "source": []
  }
 ],
 "metadata": {
  "kernelspec": {
   "display_name": "fdtd",
   "language": "python",
   "name": "python3"
  },
  "language_info": {
   "codemirror_mode": {
    "name": "ipython",
    "version": 3
   },
   "file_extension": ".py",
   "mimetype": "text/x-python",
   "name": "python",
   "nbconvert_exporter": "python",
   "pygments_lexer": "ipython3",
   "version": "3.12.3"
  }
 },
 "nbformat": 4,
 "nbformat_minor": 2
}
